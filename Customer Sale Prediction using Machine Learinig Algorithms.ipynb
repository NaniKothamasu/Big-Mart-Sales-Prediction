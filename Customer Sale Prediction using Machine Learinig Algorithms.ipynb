{
 "cells": [
  {
   "cell_type": "code",
   "execution_count": 1,
   "id": "506382bd",
   "metadata": {},
   "outputs": [],
   "source": [
    "#BIG MART SALES PREDICTION\n",
    "import numpy as np\n",
    "import pandas as pd\n",
    "import os"
   ]
  },
  {
   "cell_type": "code",
   "execution_count": 2,
   "id": "a83220f1",
   "metadata": {},
   "outputs": [],
   "source": [
    "import pandas as pd\n",
    "train_data=pd.read_csv('train_.csv')\n",
    "test_data=pd.read_csv('test_.csv')\n",
    "sample_data=pd.read_csv('sample_submission.csv')"
   ]
  },
  {
   "cell_type": "code",
   "execution_count": 3,
   "id": "e8817373",
   "metadata": {},
   "outputs": [
    {
     "data": {
      "text/plain": [
       "(8523, 12)"
      ]
     },
     "execution_count": 3,
     "metadata": {},
     "output_type": "execute_result"
    }
   ],
   "source": [
    "train_data.shape"
   ]
  },
  {
   "cell_type": "code",
   "execution_count": 4,
   "id": "aeff5f1a",
   "metadata": {},
   "outputs": [
    {
     "name": "stdout",
     "output_type": "stream",
     "text": [
      "<class 'pandas.core.frame.DataFrame'>\n",
      "RangeIndex: 8523 entries, 0 to 8522\n",
      "Data columns (total 12 columns):\n",
      " #   Column                     Non-Null Count  Dtype  \n",
      "---  ------                     --------------  -----  \n",
      " 0   Item_Identifier            8523 non-null   object \n",
      " 1   Item_Weight                7060 non-null   float64\n",
      " 2   Item_Fat_Content           8523 non-null   object \n",
      " 3   Item_Visibility            8523 non-null   float64\n",
      " 4   Item_Type                  8523 non-null   object \n",
      " 5   Item_MRP                   8523 non-null   float64\n",
      " 6   Outlet_Identifier          8523 non-null   object \n",
      " 7   Outlet_Establishment_Year  8523 non-null   int64  \n",
      " 8   Outlet_Size                6113 non-null   object \n",
      " 9   Outlet_Location_Type       8523 non-null   object \n",
      " 10  Outlet_Type                8523 non-null   object \n",
      " 11  Item_Outlet_Sales          8523 non-null   float64\n",
      "dtypes: float64(4), int64(1), object(7)\n",
      "memory usage: 799.2+ KB\n"
     ]
    }
   ],
   "source": [
    "train_data.info()"
   ]
  },
  {
   "cell_type": "code",
   "execution_count": 5,
   "id": "b33f7892",
   "metadata": {},
   "outputs": [
    {
     "data": {
      "text/html": [
       "<div>\n",
       "<style scoped>\n",
       "    .dataframe tbody tr th:only-of-type {\n",
       "        vertical-align: middle;\n",
       "    }\n",
       "\n",
       "    .dataframe tbody tr th {\n",
       "        vertical-align: top;\n",
       "    }\n",
       "\n",
       "    .dataframe thead th {\n",
       "        text-align: right;\n",
       "    }\n",
       "</style>\n",
       "<table border=\"1\" class=\"dataframe\">\n",
       "  <thead>\n",
       "    <tr style=\"text-align: right;\">\n",
       "      <th></th>\n",
       "      <th>Item_Weight</th>\n",
       "      <th>Item_Visibility</th>\n",
       "      <th>Item_MRP</th>\n",
       "      <th>Outlet_Establishment_Year</th>\n",
       "      <th>Item_Outlet_Sales</th>\n",
       "    </tr>\n",
       "  </thead>\n",
       "  <tbody>\n",
       "    <tr>\n",
       "      <th>count</th>\n",
       "      <td>7060.000000</td>\n",
       "      <td>8523.000000</td>\n",
       "      <td>8523.000000</td>\n",
       "      <td>8523.000000</td>\n",
       "      <td>8523.000000</td>\n",
       "    </tr>\n",
       "    <tr>\n",
       "      <th>mean</th>\n",
       "      <td>12.857645</td>\n",
       "      <td>0.066132</td>\n",
       "      <td>140.992782</td>\n",
       "      <td>1997.831867</td>\n",
       "      <td>2181.288914</td>\n",
       "    </tr>\n",
       "    <tr>\n",
       "      <th>std</th>\n",
       "      <td>4.643456</td>\n",
       "      <td>0.051598</td>\n",
       "      <td>62.275067</td>\n",
       "      <td>8.371760</td>\n",
       "      <td>1706.499616</td>\n",
       "    </tr>\n",
       "    <tr>\n",
       "      <th>min</th>\n",
       "      <td>4.555000</td>\n",
       "      <td>0.000000</td>\n",
       "      <td>31.290000</td>\n",
       "      <td>1985.000000</td>\n",
       "      <td>33.290000</td>\n",
       "    </tr>\n",
       "    <tr>\n",
       "      <th>25%</th>\n",
       "      <td>8.773750</td>\n",
       "      <td>0.026989</td>\n",
       "      <td>93.826500</td>\n",
       "      <td>1987.000000</td>\n",
       "      <td>834.247400</td>\n",
       "    </tr>\n",
       "    <tr>\n",
       "      <th>50%</th>\n",
       "      <td>12.600000</td>\n",
       "      <td>0.053931</td>\n",
       "      <td>143.012800</td>\n",
       "      <td>1999.000000</td>\n",
       "      <td>1794.331000</td>\n",
       "    </tr>\n",
       "    <tr>\n",
       "      <th>75%</th>\n",
       "      <td>16.850000</td>\n",
       "      <td>0.094585</td>\n",
       "      <td>185.643700</td>\n",
       "      <td>2004.000000</td>\n",
       "      <td>3101.296400</td>\n",
       "    </tr>\n",
       "    <tr>\n",
       "      <th>max</th>\n",
       "      <td>21.350000</td>\n",
       "      <td>0.328391</td>\n",
       "      <td>266.888400</td>\n",
       "      <td>2009.000000</td>\n",
       "      <td>13086.964800</td>\n",
       "    </tr>\n",
       "  </tbody>\n",
       "</table>\n",
       "</div>"
      ],
      "text/plain": [
       "       Item_Weight  Item_Visibility     Item_MRP  Outlet_Establishment_Year  \\\n",
       "count  7060.000000      8523.000000  8523.000000                8523.000000   \n",
       "mean     12.857645         0.066132   140.992782                1997.831867   \n",
       "std       4.643456         0.051598    62.275067                   8.371760   \n",
       "min       4.555000         0.000000    31.290000                1985.000000   \n",
       "25%       8.773750         0.026989    93.826500                1987.000000   \n",
       "50%      12.600000         0.053931   143.012800                1999.000000   \n",
       "75%      16.850000         0.094585   185.643700                2004.000000   \n",
       "max      21.350000         0.328391   266.888400                2009.000000   \n",
       "\n",
       "       Item_Outlet_Sales  \n",
       "count        8523.000000  \n",
       "mean         2181.288914  \n",
       "std          1706.499616  \n",
       "min            33.290000  \n",
       "25%           834.247400  \n",
       "50%          1794.331000  \n",
       "75%          3101.296400  \n",
       "max         13086.964800  "
      ]
     },
     "execution_count": 5,
     "metadata": {},
     "output_type": "execute_result"
    }
   ],
   "source": [
    "train_data.describe()"
   ]
  },
  {
   "cell_type": "code",
   "execution_count": 16,
   "id": "66c7c349",
   "metadata": {},
   "outputs": [],
   "source": [
    "# Imputing the columns\n",
    "train_data['Item_Weight']=train_data['Item_Weight'].fillna(12.15)\n",
    "train_data['Outlet_Size']=train_data['Outlet_Size'].fillna('Medium')\n",
    "train_data['Item_Visibility']=train_data['Item_Visibility'].fillna(0.06181292964400241)"
   ]
  },
  {
   "cell_type": "code",
   "execution_count": 14,
   "id": "6fd851d6",
   "metadata": {},
   "outputs": [
    {
     "name": "stdout",
     "output_type": "stream",
     "text": [
      "Item Weight NULL value percentage 0.1716531737651062\n",
      "Outlet Size NULL value percentage 0.2827642848762173\n",
      "Item Visiblity NULL value percentage 0.026751143963393172\n"
     ]
    }
   ],
   "source": [
    "# Checking percentage of NULL values\n",
    "print(\"Item Weight NULL value percentage\", 1463/8523)\n",
    "print(\"Outlet Size NULL value percentage\", 2410/8523)\n",
    "print(\"Item Visiblity NULL value percentage\", 228/8523)"
   ]
  },
  {
   "cell_type": "code",
   "execution_count": 7,
   "id": "30d776ce",
   "metadata": {},
   "outputs": [
    {
     "name": "stdout",
     "output_type": "stream",
     "text": [
      "['Low Fat' 'Regular' 'low fat' 'LF' 'reg']\n",
      "['Dairy' 'Soft Drinks' 'Meat' 'Fruits and Vegetables' 'Household'\n",
      " 'Baking Goods' 'Snack Foods' 'Frozen Foods' 'Breakfast'\n",
      " 'Health and Hygiene' 'Hard Drinks' 'Canned' 'Breads' 'Starchy Foods'\n",
      " 'Others' 'Seafood']\n",
      "[1985 1987 1997 1998 1999 2002 2004 2007 2009]\n",
      "['Tier 1' 'Tier 3' 'Tier 2']\n",
      "['Supermarket Type1' 'Supermarket Type2' 'Grocery Store'\n",
      " 'Supermarket Type3']\n"
     ]
    }
   ],
   "source": [
    "print(train_data['Item_Fat_Content'].unique())\n",
    "print(train_data['Item_Type'].unique())\n",
    "print(train_data['Outlet_Establishment_Year'].sort_values().unique())\n",
    "#print(train_data['Outlet_Size'].unique())\n",
    "print(train_data['Outlet_Location_Type'].unique())\n",
    "print(train_data['Outlet_Type'].unique())"
   ]
  },
  {
   "cell_type": "code",
   "execution_count": 6,
   "id": "0b8c0524",
   "metadata": {},
   "outputs": [
    {
     "data": {
      "text/plain": [
       "array([[<AxesSubplot:title={'center':'Item_Weight'}>,\n",
       "        <AxesSubplot:title={'center':'Item_Visibility'}>],\n",
       "       [<AxesSubplot:title={'center':'Item_MRP'}>,\n",
       "        <AxesSubplot:title={'center':'Outlet_Establishment_Year'}>],\n",
       "       [<AxesSubplot:title={'center':'Item_Outlet_Sales'}>,\n",
       "        <AxesSubplot:>]], dtype=object)"
      ]
     },
     "execution_count": 6,
     "metadata": {},
     "output_type": "execute_result"
    },
    {
     "data": {
      "image/png": "[encoded data removed]",
      "text/plain": [
       "<Figure size 1080x864 with 6 Axes>"
      ]
     },
     "metadata": {
      "needs_background": "light"
     },
     "output_type": "display_data"
    }
   ],
   "source": [
    "train_data.hist(figsize=(15,12))"
   ]
  },
  {
   "cell_type": "code",
   "execution_count": 69,
   "id": "8671fc59",
   "metadata": {},
   "outputs": [
    {
     "data": {
      "image/png": "[encoded data removed]",
      "text/plain": [
       "<Figure size 1440x360 with 1 Axes>"
      ]
     },
     "metadata": {
      "needs_background": "light"
     },
     "output_type": "display_data"
    }
   ],
   "source": [
    "from matplotlib import pyplot as plt\n",
    "plt.figure(figsize=(20,5))\n",
    "plt.bar(train_data[\"Item_Weight\"][0:10],train_data[\"Item_MRP\"][0:10],width=0.5)\n",
    "plt.xlabel(\"Item Weight\",fontsize=20)\n",
    "plt.ylabel(\"Item Price\",fontsize=20)\n",
    "plt.title(\"MRP based on the weight\",fontsize=30)\n",
    "plt.show()"
   ]
  },
  {
   "cell_type": "code",
   "execution_count": 98,
   "id": "efdcc0b7",
   "metadata": {},
   "outputs": [
    {
     "data": {
      "image/png": "[encoded data removed]",
      "text/plain": [
       "<Figure size 1440x360 with 1 Axes>"
      ]
     },
     "metadata": {
      "needs_background": "light"
     },
     "output_type": "display_data"
    }
   ],
   "source": [
    "plt.figure(figsize=(20,5))\n",
    "plt.bar(train_data['Outlet_Establishment_Year'],train_data['Outlet_Location_Type'],color=\"green\")\n",
    "plt.title(\"Year based Item\",fontsize=30)\n",
    "plt.xlabel(\"Year\",fontsize=20)\n",
    "plt.ylabel(\"Type\",fontsize=20)\n",
    "plt.grid()\n",
    "plt.show()"
   ]
  },
  {
   "cell_type": "code",
   "execution_count": 101,
   "id": "4ef6b482",
   "metadata": {},
   "outputs": [
    {
     "data": {
      "image/png": "[encoded data removed]",
      "text/plain": [
       "<Figure size 1440x360 with 1 Axes>"
      ]
     },
     "metadata": {
      "needs_background": "light"
     },
     "output_type": "display_data"
    }
   ],
   "source": [
    "import seaborn as sns\n",
    "plt.figure(figsize=(20,5))\n",
    "sns.histplot(train_data[\"Item_MRP\"])\n",
    "plt.show()"
   ]
  },
  {
   "cell_type": "code",
   "execution_count": 106,
   "id": "ecaf037b",
   "metadata": {},
   "outputs": [
    {
     "data": {
      "image/png": "[encoded data removed]",
      "text/plain": [
       "<Figure size 1440x360 with 1 Axes>"
      ]
     },
     "metadata": {
      "needs_background": "light"
     },
     "output_type": "display_data"
    }
   ],
   "source": [
    "# Count plot\n",
    "plt.figure(figsize=(20,5))\n",
    "sns.histplot(train_data[\"Item_MRP\"][0:20])\n",
    "plt.show()"
   ]
  },
  {
   "cell_type": "code",
   "execution_count": 8,
   "id": "26c77961",
   "metadata": {},
   "outputs": [],
   "source": [
    "train_data['Item_Fat_Content']=train_data['Item_Fat_Content'].replace('LF', 'Low Fat')\n",
    "train_data['Item_Fat_Content']=train_data['Item_Fat_Content'].replace('low fat', 'Low Fat')\n",
    "train_data['Item_Fat_Content']=train_data['Item_Fat_Content'].replace('reg', 'Regular')"
   ]
  },
  {
   "cell_type": "code",
   "execution_count": 9,
   "id": "e5ec9780",
   "metadata": {},
   "outputs": [
    {
     "data": {
      "text/plain": [
       "Item_Weight                     AxesSubplot(0.125,0.125;0.133621x0.755)\n",
       "Item_Visibility              AxesSubplot(0.285345,0.125;0.133621x0.755)\n",
       "Item_MRP                      AxesSubplot(0.44569,0.125;0.133621x0.755)\n",
       "Outlet_Establishment_Year    AxesSubplot(0.606034,0.125;0.133621x0.755)\n",
       "Item_Outlet_Sales            AxesSubplot(0.766379,0.125;0.133621x0.755)\n",
       "dtype: object"
      ]
     },
     "execution_count": 9,
     "metadata": {},
     "output_type": "execute_result"
    },
    {
     "data": {
      "image/png": "[encoded data removed]",
      "text/plain": [
       "<Figure size 1440x360 with 5 Axes>"
      ]
     },
     "metadata": {
      "needs_background": "light"
     },
     "output_type": "display_data"
    }
   ],
   "source": [
    "train_data.plot(kind='box', subplots=True, layout=(1,5), figsize=(20,5))"
   ]
  },
  {
   "cell_type": "code",
   "execution_count": 10,
   "id": "3693e222",
   "metadata": {},
   "outputs": [
    {
     "data": {
      "text/plain": [
       "Item_Weight                     AxesSubplot(0.125,0.125;0.133621x0.755)\n",
       "Item_Visibility              AxesSubplot(0.285345,0.125;0.133621x0.755)\n",
       "Item_MRP                      AxesSubplot(0.44569,0.125;0.133621x0.755)\n",
       "Outlet_Establishment_Year    AxesSubplot(0.606034,0.125;0.133621x0.755)\n",
       "Item_Outlet_Sales            AxesSubplot(0.766379,0.125;0.133621x0.755)\n",
       "dtype: object"
      ]
     },
     "execution_count": 10,
     "metadata": {},
     "output_type": "execute_result"
    },
    {
     "data": {
      "image/png": "[encoded data removed]",
      "text/plain": [
       "<Figure size 1440x360 with 5 Axes>"
      ]
     },
     "metadata": {
      "needs_background": "light"
     },
     "output_type": "display_data"
    }
   ],
   "source": [
    "train_data.plot(kind='box', subplots=True, layout=(1,5), figsize=(20,5))"
   ]
  },
  {
   "cell_type": "code",
   "execution_count": 11,
   "id": "6f7c6f53",
   "metadata": {},
   "outputs": [],
   "source": [
    "# Removing Outliers\n",
    "train_data['Item_Visibility']=train_data[train_data['Item_Visibility']<0.18]['Item_Visibility']"
   ]
  },
  {
   "cell_type": "code",
   "execution_count": 13,
   "id": "cfa3698f",
   "metadata": {},
   "outputs": [
    {
     "data": {
      "text/plain": [
       "Item_Identifier                 0\n",
       "Item_Weight                  1463\n",
       "Item_Fat_Content                0\n",
       "Item_Visibility               228\n",
       "Item_Type                       0\n",
       "Item_MRP                        0\n",
       "Outlet_Identifier               0\n",
       "Outlet_Establishment_Year       0\n",
       "Outlet_Size                  2410\n",
       "Outlet_Location_Type            0\n",
       "Outlet_Type                     0\n",
       "Item_Outlet_Sales               0\n",
       "dtype: int64"
      ]
     },
     "execution_count": 13,
     "metadata": {},
     "output_type": "execute_result"
    }
   ],
   "source": [
    "#cheking for null values\n",
    "train_data.isna().sum()"
   ]
  },
  {
   "cell_type": "code",
   "execution_count": 15,
   "id": "f2d72cce",
   "metadata": {},
   "outputs": [
    {
     "name": "stdout",
     "output_type": "stream",
     "text": [
      "0    12.15\n",
      "Name: Item_Weight, dtype: float64\n",
      "0    Medium\n",
      "Name: Outlet_Size, dtype: object\n",
      "0.06181292964400252\n"
     ]
    }
   ],
   "source": [
    "print(train_data['Item_Weight'].mode())\n",
    "print(train_data['Outlet_Size'].mode())\n",
    "print(train_data['Item_Visibility'].mean())"
   ]
  },
  {
   "cell_type": "code",
   "execution_count": 17,
   "id": "e8339d32",
   "metadata": {},
   "outputs": [
    {
     "data": {
      "text/plain": [
       "array([[<AxesSubplot:ylabel='Frequency'>,\n",
       "        <AxesSubplot:ylabel='Frequency'>,\n",
       "        <AxesSubplot:ylabel='Frequency'>,\n",
       "        <AxesSubplot:ylabel='Frequency'>,\n",
       "        <AxesSubplot:ylabel='Frequency'>]], dtype=object)"
      ]
     },
     "execution_count": 17,
     "metadata": {},
     "output_type": "execute_result"
    },
    {
     "data": {
      "image/png": "[encoded data removed]",
      "text/plain": [
       "<Figure size 1440x360 with 5 Axes>"
      ]
     },
     "metadata": {
      "needs_background": "light"
     },
     "output_type": "display_data"
    }
   ],
   "source": [
    "train_data.plot(kind='hist', subplots=True, layout=(1,5), figsize=(20,5))"
   ]
  },
  {
   "cell_type": "code",
   "execution_count": 18,
   "id": "22ec84b9",
   "metadata": {},
   "outputs": [
    {
     "data": {
      "text/plain": [
       "<AxesSubplot:>"
      ]
     },
     "execution_count": 18,
     "metadata": {},
     "output_type": "execute_result"
    },
    {
     "data": {
      "image/png": "[encoded data removed]",
      "text/plain": [
       "<Figure size 432x288 with 2 Axes>"
      ]
     },
     "metadata": {
      "needs_background": "light"
     },
     "output_type": "display_data"
    }
   ],
   "source": [
    "import seaborn as sns\n",
    "df=train_data.corr()\n",
    "sns.heatmap(df, annot=True)"
   ]
  },
  {
   "cell_type": "code",
   "execution_count": 19,
   "id": "1221233d",
   "metadata": {},
   "outputs": [
    {
     "data": {
      "text/plain": [
       "OUT027    935\n",
       "OUT013    932\n",
       "OUT049    930\n",
       "OUT046    930\n",
       "OUT035    930\n",
       "OUT045    929\n",
       "OUT018    928\n",
       "OUT017    926\n",
       "OUT010    555\n",
       "OUT019    528\n",
       "Name: Outlet_Identifier, dtype: int64"
      ]
     },
     "execution_count": 19,
     "metadata": {},
     "output_type": "execute_result"
    },
    {
     "data": {
      "image/png": "[encoded data removed]",
      "text/plain": [
       "<Figure size 720x720 with 1 Axes>"
      ]
     },
     "metadata": {
      "needs_background": "light"
     },
     "output_type": "display_data"
    }
   ],
   "source": [
    "import matplotlib.pyplot as plt\n",
    "plt.figure(figsize=(10,10))\n",
    "sns.barplot(x=train_data['Outlet_Identifier'], y=train_data['Item_Outlet_Sales'])\n",
    "train_data['Outlet_Identifier'].value_counts()"
   ]
  },
  {
   "cell_type": "code",
   "execution_count": 20,
   "id": "f6c1f2b4",
   "metadata": {},
   "outputs": [],
   "source": [
    "train_data=train_data.drop('Item_Identifier', axis=1)"
   ]
  },
  {
   "cell_type": "code",
   "execution_count": 21,
   "id": "0348bb1d",
   "metadata": {},
   "outputs": [],
   "source": [
    "from sklearn.preprocessing import LabelEncoder\n",
    "label = LabelEncoder()\n",
    "train_data['Item_Fat_Content']=label.fit_transform(train_data['Item_Fat_Content'])\n",
    "train_data['Outlet_Size']=label.fit_transform(train_data['Outlet_Size'])\n",
    "train_data['Outlet_Location_Type']=label.fit_transform(train_data['Outlet_Location_Type'])"
   ]
  },
  {
   "cell_type": "code",
   "execution_count": 22,
   "id": "44263708",
   "metadata": {},
   "outputs": [],
   "source": [
    "df=pd.get_dummies(train_data['Item_Type'])\n",
    "train_data=pd.concat([train_data, df], axis=1)\n",
    "\n",
    "df=pd.get_dummies(train_data['Outlet_Identifier'])\n",
    "train_data=pd.concat([train_data, df], axis=1)\n",
    "\n",
    "df=pd.get_dummies(train_data['Outlet_Type'])\n",
    "train_data=pd.concat([train_data, df], axis=1)"
   ]
  },
  {
   "cell_type": "code",
   "execution_count": 23,
   "id": "26a95720",
   "metadata": {},
   "outputs": [],
   "source": [
    "train_data=train_data.drop(['Item_Type', 'Outlet_Identifier', 'Outlet_Type'], axis=1)"
   ]
  },
  {
   "cell_type": "code",
   "execution_count": 24,
   "id": "ac020027",
   "metadata": {},
   "outputs": [
    {
     "name": "stdout",
     "output_type": "stream",
     "text": [
      "<class 'pandas.core.frame.DataFrame'>\n",
      "RangeIndex: 8523 entries, 0 to 8522\n",
      "Data columns (total 38 columns):\n",
      " #   Column                     Non-Null Count  Dtype  \n",
      "---  ------                     --------------  -----  \n",
      " 0   Item_Weight                8523 non-null   float64\n",
      " 1   Item_Fat_Content           8523 non-null   int32  \n",
      " 2   Item_Visibility            8523 non-null   float64\n",
      " 3   Item_MRP                   8523 non-null   float64\n",
      " 4   Outlet_Establishment_Year  8523 non-null   int64  \n",
      " 5   Outlet_Size                8523 non-null   int32  \n",
      " 6   Outlet_Location_Type       8523 non-null   int32  \n",
      " 7   Item_Outlet_Sales          8523 non-null   float64\n",
      " 8   Baking Goods               8523 non-null   uint8  \n",
      " 9   Breads                     8523 non-null   uint8  \n",
      " 10  Breakfast                  8523 non-null   uint8  \n",
      " 11  Canned                     8523 non-null   uint8  \n",
      " 12  Dairy                      8523 non-null   uint8  \n",
      " 13  Frozen Foods               8523 non-null   uint8  \n",
      " 14  Fruits and Vegetables      8523 non-null   uint8  \n",
      " 15  Hard Drinks                8523 non-null   uint8  \n",
      " 16  Health and Hygiene         8523 non-null   uint8  \n",
      " 17  Household                  8523 non-null   uint8  \n",
      " 18  Meat                       8523 non-null   uint8  \n",
      " 19  Others                     8523 non-null   uint8  \n",
      " 20  Seafood                    8523 non-null   uint8  \n",
      " 21  Snack Foods                8523 non-null   uint8  \n",
      " 22  Soft Drinks                8523 non-null   uint8  \n",
      " 23  Starchy Foods              8523 non-null   uint8  \n",
      " 24  OUT010                     8523 non-null   uint8  \n",
      " 25  OUT013                     8523 non-null   uint8  \n",
      " 26  OUT017                     8523 non-null   uint8  \n",
      " 27  OUT018                     8523 non-null   uint8  \n",
      " 28  OUT019                     8523 non-null   uint8  \n",
      " 29  OUT027                     8523 non-null   uint8  \n",
      " 30  OUT035                     8523 non-null   uint8  \n",
      " 31  OUT045                     8523 non-null   uint8  \n",
      " 32  OUT046                     8523 non-null   uint8  \n",
      " 33  OUT049                     8523 non-null   uint8  \n",
      " 34  Grocery Store              8523 non-null   uint8  \n",
      " 35  Supermarket Type1          8523 non-null   uint8  \n",
      " 36  Supermarket Type2          8523 non-null   uint8  \n",
      " 37  Supermarket Type3          8523 non-null   uint8  \n",
      "dtypes: float64(4), int32(3), int64(1), uint8(30)\n",
      "memory usage: 682.6 KB\n"
     ]
    }
   ],
   "source": [
    "train_data.info()"
   ]
  },
  {
   "cell_type": "code",
   "execution_count": 25,
   "id": "aeb7ac4f",
   "metadata": {},
   "outputs": [],
   "source": [
    "x_orig = train_data.drop('Item_Outlet_Sales', axis=1)\n",
    "y_orig = pd.DataFrame(train_data['Item_Outlet_Sales'], columns=['Item_Outlet_Sales'])"
   ]
  },
  {
   "cell_type": "code",
   "execution_count": 26,
   "id": "a8e15f9d",
   "metadata": {},
   "outputs": [
    {
     "data": {
      "text/plain": [
       "(8523, 1)"
      ]
     },
     "execution_count": 26,
     "metadata": {},
     "output_type": "execute_result"
    }
   ],
   "source": [
    "y_orig.shape"
   ]
  },
  {
   "cell_type": "code",
   "execution_count": 27,
   "id": "561720d9",
   "metadata": {},
   "outputs": [
    {
     "name": "stdout",
     "output_type": "stream",
     "text": [
      "R2 score 0.5445864407645202\n",
      "RMSE: 1186.8897388758878\n",
      "Accuracy:  0.5685757401905216\n"
     ]
    }
   ],
   "source": [
    "# Linear Regression\n",
    "from sklearn.preprocessing import StandardScaler\n",
    "scale = StandardScaler()\n",
    "x=scale.fit_transform(x_orig)\n",
    "y=scale.fit_transform(y_orig)\n",
    "\n",
    "from sklearn.model_selection import train_test_split\n",
    "x_train, x_test, y_train, y_test = train_test_split(x, y, test_size=0.2, random_state=7)\n",
    "\n",
    "from sklearn.linear_model import LinearRegression\n",
    "model = LinearRegression()\n",
    "model.fit(x_train, y_train)\n",
    "y_pred = model.predict(x_test)\n",
    "\n",
    "y_test = scale.inverse_transform(y_test)\n",
    "y_pred = scale.inverse_transform(y_pred)\n",
    "\n",
    "from sklearn import metrics\n",
    "print(\"R2 score\", metrics.r2_score(y_test, y_pred))\n",
    "print('RMSE:', np.sqrt(metrics.mean_squared_error(y_test, y_pred)))\n",
    "print(\"Accuracy: \",model.score(x_train,y_train) )"
   ]
  },
  {
   "cell_type": "code",
   "execution_count": 86,
   "id": "bb91d81c",
   "metadata": {},
   "outputs": [
    {
     "name": "stdout",
     "output_type": "stream",
     "text": [
      "R2 score -0.00024579770948407464\n",
      "RMSE: 1758.9794452421588\n",
      "Accuracy:  90.0\n"
     ]
    }
   ],
   "source": [
    "# Lasso Regression\n",
    "from sklearn.preprocessing import StandardScaler\n",
    "scale = StandardScaler()\n",
    "x=scale.fit_transform(x_orig)\n",
    "y=scale.fit_transform(y_orig)\n",
    "\n",
    "from sklearn.model_selection import train_test_split\n",
    "x_train, x_test, y_train, y_test = train_test_split(x, y, test_size=0.2, random_state=7)\n",
    "\n",
    "from sklearn.linear_model import Lasso\n",
    "model = Lasso(max_iter=10000)\n",
    "model.fit(x_train, y_train)\n",
    "y_pred = pd.DataFrame(model.predict(x_test))\n",
    "\n",
    "y_test = scale.inverse_transform(y_test)\n",
    "y_pred = scale.inverse_transform(y_pred)\n",
    "\n",
    "from sklearn import metrics\n",
    "print(\"R2 score\", metrics.r2_score(y_test, y_pred))\n",
    "print('RMSE:', np.sqrt(metrics.mean_squared_error(y_test, y_pred)))"
   ]
  },
  {
   "cell_type": "code",
   "execution_count": 87,
   "id": "5c97c6d0",
   "metadata": {},
   "outputs": [
    {
     "name": "stdout",
     "output_type": "stream",
     "text": [
      "R2 score 0.5445834929858073\n",
      "RMSE: 1186.8935800907288\n",
      "Accuracy:  0.5685758520963775\n"
     ]
    }
   ],
   "source": [
    "# Ridge Regression\n",
    "from sklearn.preprocessing import StandardScaler\n",
    "scale = StandardScaler()\n",
    "x=scale.fit_transform(x_orig)\n",
    "y=scale.fit_transform(y_orig)\n",
    "\n",
    "from sklearn.model_selection import train_test_split\n",
    "x_train, x_test, y_train, y_test = train_test_split(x, y, test_size=0.2, random_state=7)\n",
    "\n",
    "from sklearn.linear_model import Ridge\n",
    "model = Ridge(max_iter=1000)\n",
    "model.fit(x_train, y_train)\n",
    "y_pred = model.predict(x_test)\n",
    "\n",
    "y_test = scale.inverse_transform(y_test)\n",
    "y_pred = scale.inverse_transform(y_pred)\n",
    "\n",
    "from sklearn import metrics\n",
    "print(\"R2 score\", metrics.r2_score(y_test, y_pred))\n",
    "print('RMSE:', np.sqrt(metrics.mean_squared_error(y_test, y_pred)))\n",
    "\n",
    "np.sum(model.coef_ != 0)\n",
    "print(\"Accuracy: \",model.score(x_train,y_train) )"
   ]
  },
  {
   "cell_type": "code",
   "execution_count": 88,
   "id": "91806661",
   "metadata": {},
   "outputs": [
    {
     "name": "stdout",
     "output_type": "stream",
     "text": [
      "R2_score -1.5090299568567342\n",
      "RMSE: 4.19192206387387e+61\n",
      "Neighbour 19\n",
      "Accuracy:  0.5121796741276259\n"
     ]
    }
   ],
   "source": [
    "#SVM\n",
    "from sklearn.preprocessing import StandardScaler\n",
    "scale = StandardScaler()\n",
    "x=scale.fit_transform(x_orig)\n",
    "y=scale.fit_transform(y_orig)\n",
    "\n",
    "from sklearn.model_selection import train_test_split\n",
    "x_train, x_test, y_train, y_test = train_test_split(x, y, test_size=0.2, random_state=7)\n",
    "\n",
    "from sklearn.neighbors import KNeighborsRegressor\n",
    "score_max=0\n",
    "rmse_max=0\n",
    "i_max=0\n",
    "for i in range(1,20):\n",
    "    model = KNeighborsRegressor(n_neighbors=i)\n",
    "    model.fit(x_train, y_train)\n",
    "    y_pred = model.predict(x_test)\n",
    "    \n",
    "    y_test = scale.inverse_transform(y_test)\n",
    "    y_pred = scale.inverse_transform(y_pred)\n",
    "    \n",
    "    r2 = metrics.r2_score(y_test, y_pred)\n",
    "    rmse = np.sqrt(metrics.mean_squared_error(y_test, y_pred))\n",
    "    if (rmse > rmse_max):\n",
    "        rmse_max=rmse\n",
    "        score_max=r2\n",
    "        i_max=i\n",
    "                   \n",
    "print(\"R2_score\", score_max)\n",
    "print('RMSE:', rmse_max)\n",
    "print(\"Neighbour\", i_max)\n",
    "print(\"Accuracy: \",model.score(x_train,y_train) )"
   ]
  },
  {
   "cell_type": "code",
   "execution_count": 89,
   "id": "ef00eb47",
   "metadata": {},
   "outputs": [
    {
     "name": "stderr",
     "output_type": "stream",
     "text": [
      "C:\\Users\\HP\\AppData\\Local\\Temp\\ipykernel_13332\\3126878191.py:12: DataConversionWarning: A column-vector y was passed when a 1d array was expected. Please change the shape of y to (n_samples,), for example using ravel().\n",
      "  model.fit(x_train, y_train)\n"
     ]
    },
    {
     "name": "stdout",
     "output_type": "stream",
     "text": [
      "R2 score 0.5485746301740746\n",
      "RMSE: 1181.6813410716552\n",
      "Accuracy:  0.9380558045962369\n"
     ]
    }
   ],
   "source": [
    "#RANDOM FOREST\n",
    "from sklearn.preprocessing import StandardScaler\n",
    "scale = StandardScaler()\n",
    "x=scale.fit_transform(x_orig)\n",
    "y=scale.fit_transform(y_orig)\n",
    "\n",
    "from sklearn.model_selection import train_test_split\n",
    "x_train, x_test, y_train, y_test = train_test_split(x, y, test_size=0.2, random_state=7)\n",
    "\n",
    "from sklearn.ensemble import RandomForestRegressor\n",
    "model = RandomForestRegressor()\n",
    "model.fit(x_train, y_train)\n",
    "y_pred = pd.DataFrame(model.predict(x_test))\n",
    "\n",
    "y_test = scale.inverse_transform(y_test)\n",
    "y_pred = scale.inverse_transform(y_pred)\n",
    "\n",
    "from sklearn import metrics\n",
    "print(\"R2 score\", metrics.r2_score(y_test, y_pred))\n",
    "print('RMSE:', np.sqrt(metrics.mean_squared_error(y_test, y_pred)))\n",
    "print(\"Accuracy: \",model.score(x_train,y_train) )"
   ]
  },
  {
   "cell_type": "code",
   "execution_count": 92,
   "id": "cabc4411",
   "metadata": {},
   "outputs": [
    {
     "name": "stderr",
     "output_type": "stream",
     "text": [
      "C:\\ProgramData\\Anaconda3\\lib\\site-packages\\sklearn\\utils\\validation.py:993: DataConversionWarning: A column-vector y was passed when a 1d array was expected. Please change the shape of y to (n_samples, ), for example using ravel().\n",
      "  y = column_or_1d(y, warn=True)\n",
      "C:\\ProgramData\\Anaconda3\\lib\\site-packages\\sklearn\\utils\\validation.py:993: DataConversionWarning: A column-vector y was passed when a 1d array was expected. Please change the shape of y to (n_samples, ), for example using ravel().\n",
      "  y = column_or_1d(y, warn=True)\n",
      "C:\\ProgramData\\Anaconda3\\lib\\site-packages\\sklearn\\utils\\validation.py:993: DataConversionWarning: A column-vector y was passed when a 1d array was expected. Please change the shape of y to (n_samples, ), for example using ravel().\n",
      "  y = column_or_1d(y, warn=True)\n",
      "C:\\ProgramData\\Anaconda3\\lib\\site-packages\\sklearn\\utils\\validation.py:993: DataConversionWarning: A column-vector y was passed when a 1d array was expected. Please change the shape of y to (n_samples, ), for example using ravel().\n",
      "  y = column_or_1d(y, warn=True)\n",
      "C:\\ProgramData\\Anaconda3\\lib\\site-packages\\sklearn\\utils\\validation.py:993: DataConversionWarning: A column-vector y was passed when a 1d array was expected. Please change the shape of y to (n_samples, ), for example using ravel().\n",
      "  y = column_or_1d(y, warn=True)\n"
     ]
    },
    {
     "name": "stdout",
     "output_type": "stream",
     "text": [
      "0.5819896261548357\n"
     ]
    }
   ],
   "source": [
    "# SVR\n",
    "\n",
    "from sklearn.preprocessing import StandardScaler\n",
    "scale = StandardScaler()\n",
    "x=scale.fit_transform(x_orig)\n",
    "y=scale.fit_transform(y_orig)\n",
    "\n",
    "from sklearn.model_selection import KFold\n",
    "kfold = KFold(n_splits=5, random_state=5, shuffle=True)\n",
    "\n",
    "from sklearn.svm import SVR\n",
    "model = SVR()\n",
    "\n",
    "from sklearn.model_selection import cross_val_score\n",
    "score=cross_val_score(model, x, y, cv=kfold, scoring='r2')\n",
    "\n",
    "print(score.mean())"
   ]
  },
  {
   "cell_type": "code",
   "execution_count": 33,
   "id": "f1a56863",
   "metadata": {},
   "outputs": [],
   "source": [
    "train_data=pd.read_csv('train_.csv')\n",
    "train_data_orig=train_data"
   ]
  },
  {
   "cell_type": "code",
   "execution_count": 34,
   "id": "1472234a",
   "metadata": {},
   "outputs": [],
   "source": [
    "test_data=pd.read_csv('test_.csv')\n",
    "test_data_orig=test_data"
   ]
  },
  {
   "cell_type": "code",
   "execution_count": 35,
   "id": "4daf0f90",
   "metadata": {},
   "outputs": [],
   "source": [
    "train_data['Item_Fat_Content']=train_data['Item_Fat_Content'].replace('LF', 'Low Fat')\n",
    "train_data['Item_Fat_Content']=train_data['Item_Fat_Content'].replace('low fat', 'Low Fat')\n",
    "train_data['Item_Fat_Content']=train_data['Item_Fat_Content'].replace('reg', 'Regular')\n",
    "\n",
    "#train_data=train_data.drop(['Item_Weight', 'Item_Identifier', 'Outlet_Size', 'Item_Visibility'], axis=1)\n",
    "\n",
    "train_data['Item_Visibility']=train_data[train_data['Item_Visibility']<0.18]['Item_Visibility']\n",
    "\n",
    "train_data['Item_Weight']=train_data['Item_Weight'].fillna(12.15)\n",
    "train_data['Outlet_Size']=train_data['Outlet_Size'].fillna('Medium')\n",
    "train_data['Item_Visibility']=train_data['Item_Visibility'].fillna(0.06181292964400241)\n",
    "\n",
    "train_data=train_data.drop('Item_Identifier', axis=1)\n",
    "\n",
    "from sklearn.preprocessing import LabelEncoder\n",
    "label = LabelEncoder()\n",
    "train_data['Item_Fat_Content']=label.fit_transform(train_data['Item_Fat_Content'])\n",
    "train_data['Outlet_Size']=label.fit_transform(train_data['Outlet_Size'])\n",
    "train_data['Outlet_Location_Type']=label.fit_transform(train_data['Outlet_Location_Type'])\n",
    "\n",
    "df=pd.get_dummies(train_data['Item_Type'])\n",
    "train_data=pd.concat([train_data, df], axis=1)\n",
    "df=pd.get_dummies(train_data['Outlet_Identifier'])\n",
    "train_data=pd.concat([train_data, df], axis=1)\n",
    "df=pd.get_dummies(train_data['Outlet_Type'])\n",
    "train_data=pd.concat([train_data, df], axis=1)\n",
    "\n",
    "train_data=train_data.drop(['Item_Type', 'Outlet_Identifier', 'Outlet_Type'], axis=1)"
   ]
  },
  {
   "cell_type": "code",
   "execution_count": 36,
   "id": "c9066f45",
   "metadata": {},
   "outputs": [],
   "source": [
    "test_data['Item_Fat_Content']=test_data['Item_Fat_Content'].replace('LF', 'Low Fat')\n",
    "test_data['Item_Fat_Content']=test_data['Item_Fat_Content'].replace('low fat', 'Low Fat')\n",
    "test_data['Item_Fat_Content']=test_data['Item_Fat_Content'].replace('reg', 'Regular')\n",
    "\n",
    "#test_data=test_data.drop(['Item_Weight', 'Item_Identifier', 'Outlet_Size', 'Item_Visibility'], axis=1)\n",
    "\n",
    "test_data['Item_Visibility']=test_data[test_data['Item_Visibility']<0.18]['Item_Visibility']\n",
    "\n",
    "test_data['Item_Weight']=test_data['Item_Weight'].fillna(12.15)\n",
    "test_data['Outlet_Size']=test_data['Outlet_Size'].fillna('Medium')\n",
    "test_data['Item_Visibility']=test_data['Item_Visibility'].fillna(0.06181292964400241)\n",
    "\n",
    "test_data=test_data.drop('Item_Identifier', axis=1)\n",
    "\n",
    "from sklearn.preprocessing import LabelEncoder\n",
    "label = LabelEncoder()\n",
    "test_data['Item_Fat_Content']=label.fit_transform(test_data['Item_Fat_Content'])\n",
    "test_data['Outlet_Size']=label.fit_transform(test_data['Outlet_Size'])\n",
    "test_data['Outlet_Location_Type']=label.fit_transform(test_data['Outlet_Location_Type'])\n",
    "\n",
    "df=pd.get_dummies(test_data['Item_Type'])\n",
    "test_data=pd.concat([test_data, df], axis=1)\n",
    "df=pd.get_dummies(test_data['Outlet_Identifier'])\n",
    "test_data=pd.concat([test_data, df], axis=1)\n",
    "df=pd.get_dummies(test_data['Outlet_Type'])\n",
    "test_data=pd.concat([test_data, df], axis=1)\n",
    "\n",
    "test_data=test_data.drop(['Item_Type', 'Outlet_Identifier', 'Outlet_Type'], axis=1)"
   ]
  },
  {
   "cell_type": "code",
   "execution_count": 37,
   "id": "488135d5",
   "metadata": {},
   "outputs": [
    {
     "data": {
      "text/plain": [
       "array([1, 0, 2])"
      ]
     },
     "execution_count": 37,
     "metadata": {},
     "output_type": "execute_result"
    }
   ],
   "source": [
    "train_data['Outlet_Size'].unique()"
   ]
  },
  {
   "cell_type": "code",
   "execution_count": 38,
   "id": "2bf9db2b",
   "metadata": {},
   "outputs": [],
   "source": [
    "a=pd.DataFrame(test_data_orig[['Item_Identifier', 'Outlet_Identifier']], columns=['Item_Identifier', 'Outlet_Identifier'])\n",
    "b=pd.DataFrame(abs(y_pred), columns=['Item_Outlet_Sales'])\n",
    "\n",
    "new=pd.concat([a,b], axis=1)"
   ]
  },
  {
   "cell_type": "code",
   "execution_count": 39,
   "id": "d8a8ae01",
   "metadata": {},
   "outputs": [
    {
     "data": {
      "text/html": [
       "<div>\n",
       "<style scoped>\n",
       "    .dataframe tbody tr th:only-of-type {\n",
       "        vertical-align: middle;\n",
       "    }\n",
       "\n",
       "    .dataframe tbody tr th {\n",
       "        vertical-align: top;\n",
       "    }\n",
       "\n",
       "    .dataframe thead th {\n",
       "        text-align: right;\n",
       "    }\n",
       "</style>\n",
       "<table border=\"1\" class=\"dataframe\">\n",
       "  <thead>\n",
       "    <tr style=\"text-align: right;\">\n",
       "      <th></th>\n",
       "      <th>Item_Identifier</th>\n",
       "      <th>Outlet_Identifier</th>\n",
       "      <th>Item_Outlet_Sales</th>\n",
       "    </tr>\n",
       "  </thead>\n",
       "  <tbody>\n",
       "  </tbody>\n",
       "</table>\n",
       "</div>"
      ],
      "text/plain": [
       "Empty DataFrame\n",
       "Columns: [Item_Identifier, Outlet_Identifier, Item_Outlet_Sales]\n",
       "Index: []"
      ]
     },
     "execution_count": 39,
     "metadata": {},
     "output_type": "execute_result"
    }
   ],
   "source": [
    "new[new['Item_Outlet_Sales']<0]"
   ]
  },
  {
   "cell_type": "code",
   "execution_count": 40,
   "id": "e04ea036",
   "metadata": {},
   "outputs": [],
   "source": [
    "new.to_csv('submission.csv', index=False)"
   ]
  },
  {
   "cell_type": "code",
   "execution_count": 41,
   "id": "13fcb089",
   "metadata": {},
   "outputs": [
    {
     "data": {
      "text/html": [
       "<div>\n",
       "<style scoped>\n",
       "    .dataframe tbody tr th:only-of-type {\n",
       "        vertical-align: middle;\n",
       "    }\n",
       "\n",
       "    .dataframe tbody tr th {\n",
       "        vertical-align: top;\n",
       "    }\n",
       "\n",
       "    .dataframe thead th {\n",
       "        text-align: right;\n",
       "    }\n",
       "</style>\n",
       "<table border=\"1\" class=\"dataframe\">\n",
       "  <thead>\n",
       "    <tr style=\"text-align: right;\">\n",
       "      <th></th>\n",
       "      <th>Item_Identifier</th>\n",
       "      <th>Item_Weight</th>\n",
       "      <th>Item_Fat_Content</th>\n",
       "      <th>Item_Visibility</th>\n",
       "      <th>Item_Type</th>\n",
       "      <th>Item_MRP</th>\n",
       "      <th>Outlet_Identifier</th>\n",
       "      <th>Outlet_Establishment_Year</th>\n",
       "      <th>Outlet_Size</th>\n",
       "      <th>Outlet_Location_Type</th>\n",
       "      <th>Outlet_Type</th>\n",
       "      <th>Item_Outlet_Sales</th>\n",
       "    </tr>\n",
       "  </thead>\n",
       "  <tbody>\n",
       "    <tr>\n",
       "      <th>23</th>\n",
       "      <td>FDC37</td>\n",
       "      <td>NaN</td>\n",
       "      <td>Low Fat</td>\n",
       "      <td>0.057557</td>\n",
       "      <td>Baking Goods</td>\n",
       "      <td>107.6938</td>\n",
       "      <td>OUT019</td>\n",
       "      <td>1985</td>\n",
       "      <td>Small</td>\n",
       "      <td>Tier 1</td>\n",
       "      <td>Grocery Store</td>\n",
       "      <td>214.3876</td>\n",
       "    </tr>\n",
       "    <tr>\n",
       "      <th>29</th>\n",
       "      <td>FDC14</td>\n",
       "      <td>NaN</td>\n",
       "      <td>Regular</td>\n",
       "      <td>0.072222</td>\n",
       "      <td>Canned</td>\n",
       "      <td>43.6454</td>\n",
       "      <td>OUT019</td>\n",
       "      <td>1985</td>\n",
       "      <td>Small</td>\n",
       "      <td>Tier 1</td>\n",
       "      <td>Grocery Store</td>\n",
       "      <td>125.8362</td>\n",
       "    </tr>\n",
       "    <tr>\n",
       "      <th>49</th>\n",
       "      <td>FDS02</td>\n",
       "      <td>NaN</td>\n",
       "      <td>Regular</td>\n",
       "      <td>0.255395</td>\n",
       "      <td>Dairy</td>\n",
       "      <td>196.8794</td>\n",
       "      <td>OUT019</td>\n",
       "      <td>1985</td>\n",
       "      <td>Small</td>\n",
       "      <td>Tier 1</td>\n",
       "      <td>Grocery Store</td>\n",
       "      <td>780.3176</td>\n",
       "    </tr>\n",
       "    <tr>\n",
       "      <th>59</th>\n",
       "      <td>FDI26</td>\n",
       "      <td>NaN</td>\n",
       "      <td>Low Fat</td>\n",
       "      <td>0.061082</td>\n",
       "      <td>Canned</td>\n",
       "      <td>180.0344</td>\n",
       "      <td>OUT019</td>\n",
       "      <td>1985</td>\n",
       "      <td>Small</td>\n",
       "      <td>Tier 1</td>\n",
       "      <td>Grocery Store</td>\n",
       "      <td>892.1720</td>\n",
       "    </tr>\n",
       "    <tr>\n",
       "      <th>63</th>\n",
       "      <td>FDY40</td>\n",
       "      <td>NaN</td>\n",
       "      <td>Regular</td>\n",
       "      <td>0.150286</td>\n",
       "      <td>Frozen Foods</td>\n",
       "      <td>51.0692</td>\n",
       "      <td>OUT019</td>\n",
       "      <td>1985</td>\n",
       "      <td>Small</td>\n",
       "      <td>Tier 1</td>\n",
       "      <td>Grocery Store</td>\n",
       "      <td>147.8076</td>\n",
       "    </tr>\n",
       "    <tr>\n",
       "      <th>...</th>\n",
       "      <td>...</td>\n",
       "      <td>...</td>\n",
       "      <td>...</td>\n",
       "      <td>...</td>\n",
       "      <td>...</td>\n",
       "      <td>...</td>\n",
       "      <td>...</td>\n",
       "      <td>...</td>\n",
       "      <td>...</td>\n",
       "      <td>...</td>\n",
       "      <td>...</td>\n",
       "      <td>...</td>\n",
       "    </tr>\n",
       "    <tr>\n",
       "      <th>8454</th>\n",
       "      <td>NCH54</td>\n",
       "      <td>NaN</td>\n",
       "      <td>Low Fat</td>\n",
       "      <td>0.127234</td>\n",
       "      <td>Household</td>\n",
       "      <td>158.3920</td>\n",
       "      <td>OUT019</td>\n",
       "      <td>1985</td>\n",
       "      <td>Small</td>\n",
       "      <td>Tier 1</td>\n",
       "      <td>Grocery Store</td>\n",
       "      <td>159.7920</td>\n",
       "    </tr>\n",
       "    <tr>\n",
       "      <th>8458</th>\n",
       "      <td>FDX20</td>\n",
       "      <td>NaN</td>\n",
       "      <td>Low Fat</td>\n",
       "      <td>0.074518</td>\n",
       "      <td>Fruits and Vegetables</td>\n",
       "      <td>227.3720</td>\n",
       "      <td>OUT019</td>\n",
       "      <td>1985</td>\n",
       "      <td>Small</td>\n",
       "      <td>Tier 1</td>\n",
       "      <td>Grocery Store</td>\n",
       "      <td>452.7440</td>\n",
       "    </tr>\n",
       "    <tr>\n",
       "      <th>8469</th>\n",
       "      <td>FDQ45</td>\n",
       "      <td>NaN</td>\n",
       "      <td>Regular</td>\n",
       "      <td>0.019114</td>\n",
       "      <td>Snack Foods</td>\n",
       "      <td>182.1608</td>\n",
       "      <td>OUT019</td>\n",
       "      <td>1985</td>\n",
       "      <td>Small</td>\n",
       "      <td>Tier 1</td>\n",
       "      <td>Grocery Store</td>\n",
       "      <td>367.5216</td>\n",
       "    </tr>\n",
       "    <tr>\n",
       "      <th>8480</th>\n",
       "      <td>FDQ58</td>\n",
       "      <td>NaN</td>\n",
       "      <td>Low Fat</td>\n",
       "      <td>0.000000</td>\n",
       "      <td>Snack Foods</td>\n",
       "      <td>154.5340</td>\n",
       "      <td>OUT019</td>\n",
       "      <td>1985</td>\n",
       "      <td>Small</td>\n",
       "      <td>Tier 1</td>\n",
       "      <td>Grocery Store</td>\n",
       "      <td>459.4020</td>\n",
       "    </tr>\n",
       "    <tr>\n",
       "      <th>8490</th>\n",
       "      <td>FDU44</td>\n",
       "      <td>NaN</td>\n",
       "      <td>Regular</td>\n",
       "      <td>0.102296</td>\n",
       "      <td>Fruits and Vegetables</td>\n",
       "      <td>162.3552</td>\n",
       "      <td>OUT019</td>\n",
       "      <td>1985</td>\n",
       "      <td>Small</td>\n",
       "      <td>Tier 1</td>\n",
       "      <td>Grocery Store</td>\n",
       "      <td>487.3656</td>\n",
       "    </tr>\n",
       "  </tbody>\n",
       "</table>\n",
       "<p>531 rows × 12 columns</p>\n",
       "</div>"
      ],
      "text/plain": [
       "     Item_Identifier  Item_Weight Item_Fat_Content  Item_Visibility  \\\n",
       "23             FDC37          NaN          Low Fat         0.057557   \n",
       "29             FDC14          NaN          Regular         0.072222   \n",
       "49             FDS02          NaN          Regular         0.255395   \n",
       "59             FDI26          NaN          Low Fat         0.061082   \n",
       "63             FDY40          NaN          Regular         0.150286   \n",
       "...              ...          ...              ...              ...   \n",
       "8454           NCH54          NaN          Low Fat         0.127234   \n",
       "8458           FDX20          NaN          Low Fat         0.074518   \n",
       "8469           FDQ45          NaN          Regular         0.019114   \n",
       "8480           FDQ58          NaN          Low Fat         0.000000   \n",
       "8490           FDU44          NaN          Regular         0.102296   \n",
       "\n",
       "                  Item_Type  Item_MRP Outlet_Identifier  \\\n",
       "23             Baking Goods  107.6938            OUT019   \n",
       "29                   Canned   43.6454            OUT019   \n",
       "49                    Dairy  196.8794            OUT019   \n",
       "59                   Canned  180.0344            OUT019   \n",
       "63             Frozen Foods   51.0692            OUT019   \n",
       "...                     ...       ...               ...   \n",
       "8454              Household  158.3920            OUT019   \n",
       "8458  Fruits and Vegetables  227.3720            OUT019   \n",
       "8469            Snack Foods  182.1608            OUT019   \n",
       "8480            Snack Foods  154.5340            OUT019   \n",
       "8490  Fruits and Vegetables  162.3552            OUT019   \n",
       "\n",
       "      Outlet_Establishment_Year Outlet_Size Outlet_Location_Type  \\\n",
       "23                         1985       Small               Tier 1   \n",
       "29                         1985       Small               Tier 1   \n",
       "49                         1985       Small               Tier 1   \n",
       "59                         1985       Small               Tier 1   \n",
       "63                         1985       Small               Tier 1   \n",
       "...                         ...         ...                  ...   \n",
       "8454                       1985       Small               Tier 1   \n",
       "8458                       1985       Small               Tier 1   \n",
       "8469                       1985       Small               Tier 1   \n",
       "8480                       1985       Small               Tier 1   \n",
       "8490                       1985       Small               Tier 1   \n",
       "\n",
       "        Outlet_Type  Item_Outlet_Sales  \n",
       "23    Grocery Store           214.3876  \n",
       "29    Grocery Store           125.8362  \n",
       "49    Grocery Store           780.3176  \n",
       "59    Grocery Store           892.1720  \n",
       "63    Grocery Store           147.8076  \n",
       "...             ...                ...  \n",
       "8454  Grocery Store           159.7920  \n",
       "8458  Grocery Store           452.7440  \n",
       "8469  Grocery Store           367.5216  \n",
       "8480  Grocery Store           459.4020  \n",
       "8490  Grocery Store           487.3656  \n",
       "\n",
       "[531 rows x 12 columns]"
      ]
     },
     "execution_count": 41,
     "metadata": {},
     "output_type": "execute_result"
    }
   ],
   "source": [
    "train_data2=pd.read_csv('train_.csv')\n",
    "train_data2[(train_data2['Item_Identifier']=='NCR42') | (train_data2['Outlet_Identifier']=='OUT019')]"
   ]
  },
  {
   "cell_type": "code",
   "execution_count": 42,
   "id": "2aad5c16",
   "metadata": {},
   "outputs": [
    {
     "data": {
      "text/html": [
       "<div>\n",
       "<style scoped>\n",
       "    .dataframe tbody tr th:only-of-type {\n",
       "        vertical-align: middle;\n",
       "    }\n",
       "\n",
       "    .dataframe tbody tr th {\n",
       "        vertical-align: top;\n",
       "    }\n",
       "\n",
       "    .dataframe thead th {\n",
       "        text-align: right;\n",
       "    }\n",
       "</style>\n",
       "<table border=\"1\" class=\"dataframe\">\n",
       "  <thead>\n",
       "    <tr style=\"text-align: right;\">\n",
       "      <th></th>\n",
       "      <th>Item_Identifier</th>\n",
       "      <th>Item_Weight</th>\n",
       "      <th>Item_Fat_Content</th>\n",
       "      <th>Item_Visibility</th>\n",
       "      <th>Item_Type</th>\n",
       "      <th>Item_MRP</th>\n",
       "      <th>Outlet_Identifier</th>\n",
       "      <th>Outlet_Establishment_Year</th>\n",
       "      <th>Outlet_Size</th>\n",
       "      <th>Outlet_Location_Type</th>\n",
       "      <th>Outlet_Type</th>\n",
       "    </tr>\n",
       "  </thead>\n",
       "  <tbody>\n",
       "    <tr>\n",
       "      <th>30</th>\n",
       "      <td>NCR42</td>\n",
       "      <td>NaN</td>\n",
       "      <td>Low Fat</td>\n",
       "      <td>0.067377</td>\n",
       "      <td>Household</td>\n",
       "      <td>32.09</td>\n",
       "      <td>OUT019</td>\n",
       "      <td>1985</td>\n",
       "      <td>Small</td>\n",
       "      <td>Tier 1</td>\n",
       "      <td>Grocery Store</td>\n",
       "    </tr>\n",
       "  </tbody>\n",
       "</table>\n",
       "</div>"
      ],
      "text/plain": [
       "   Item_Identifier  Item_Weight Item_Fat_Content  Item_Visibility  Item_Type  \\\n",
       "30           NCR42          NaN          Low Fat         0.067377  Household   \n",
       "\n",
       "    Item_MRP Outlet_Identifier  Outlet_Establishment_Year Outlet_Size  \\\n",
       "30     32.09            OUT019                       1985       Small   \n",
       "\n",
       "   Outlet_Location_Type    Outlet_Type  \n",
       "30               Tier 1  Grocery Store  "
      ]
     },
     "execution_count": 42,
     "metadata": {},
     "output_type": "execute_result"
    }
   ],
   "source": [
    "test_data2=pd.read_csv('test_.csv')\n",
    "test_data2[(test_data2['Item_Identifier']=='NCR42') & (test_data2['Outlet_Identifier']=='OUT019')]"
   ]
  },
  {
   "cell_type": "code",
   "execution_count": null,
   "id": "e8f07e2e",
   "metadata": {},
   "outputs": [],
   "source": []
  }
 ],
 "metadata": {
  "kernelspec": {
   "display_name": "Python 3 (ipykernel)",
   "language": "python",
   "name": "python3"
  },
  "language_info": {
   "codemirror_mode": {
    "name": "ipython",
    "version": 3
   },
   "file_extension": ".py",
   "mimetype": "text/x-python",
   "name": "python",
   "nbconvert_exporter": "python",
   "pygments_lexer": "ipython3",
   "version": "3.9.12"
  }
 },
 "nbformat": 4,
 "nbformat_minor": 5
}
